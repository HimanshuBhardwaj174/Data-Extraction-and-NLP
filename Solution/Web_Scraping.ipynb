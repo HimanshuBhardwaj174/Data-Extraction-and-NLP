{
 "cells": [
  {
   "cell_type": "code",
   "execution_count": 147,
   "id": "55f0eed6-8386-4e77-a3be-8d1076f8f125",
   "metadata": {},
   "outputs": [],
   "source": [
    "import numpy as np\n",
    "import pandas as pd\n",
    "import requests\n",
    "from bs4 import BeautifulSoup"
   ]
  },
  {
   "cell_type": "markdown",
   "id": "0cb0e6e2-2137-4ebb-ad97-13f58823b646",
   "metadata": {},
   "source": [
    "## Importing URLS FROM FILE"
   ]
  },
  {
   "cell_type": "code",
   "execution_count": 69,
   "id": "2e63c21b-b1ac-4f63-937f-5abb0855ec89",
   "metadata": {},
   "outputs": [],
   "source": [
    "input = pd.read_excel('../Input.xlsx')\n",
    "URLS= input['URL']\n",
    "URLS_ID = input['URL_ID']"
   ]
  },
  {
   "cell_type": "code",
   "execution_count": 29,
   "id": "6b35ca39-38bf-47d3-8a94-26d9f8939e73",
   "metadata": {},
   "outputs": [
    {
     "data": {
      "text/plain": [
       "0    https://insights.blackcoffer.com/rising-it-cit...\n",
       "1    https://insights.blackcoffer.com/rising-it-cit...\n",
       "2    https://insights.blackcoffer.com/internet-dema...\n",
       "3    https://insights.blackcoffer.com/rise-of-cyber...\n",
       "4    https://insights.blackcoffer.com/ott-platform-...\n",
       "Name: URL, dtype: object"
      ]
     },
     "execution_count": 29,
     "metadata": {},
     "output_type": "execute_result"
    }
   ],
   "source": [
    "URLS.head()"
   ]
  },
  {
   "cell_type": "code",
   "execution_count": 70,
   "id": "45a6e2b5-80d4-4533-bb60-21ea297e030d",
   "metadata": {},
   "outputs": [
    {
     "data": {
      "text/plain": [
       "0    blackassign0001\n",
       "1    blackassign0002\n",
       "2    blackassign0003\n",
       "3    blackassign0004\n",
       "4    blackassign0005\n",
       "Name: URL_ID, dtype: object"
      ]
     },
     "execution_count": 70,
     "metadata": {},
     "output_type": "execute_result"
    }
   ],
   "source": [
    "URLS_ID.head()"
   ]
  },
  {
   "cell_type": "markdown",
   "id": "0f86e03d-f132-44cb-b3f8-392f2dff0eba",
   "metadata": {},
   "source": [
    "## CREATING FUNCTION TO CREATE TXT FILE WHICH CONTAIN TEXT DATA"
   ]
  },
  {
   "cell_type": "code",
   "execution_count": 198,
   "id": "13287bab-276f-4465-8e34-297e25e9c158",
   "metadata": {},
   "outputs": [],
   "source": [
    "def textfile(URL_ID,URL):\n",
    "    r = requests.get(URL)\n",
    "    webpage = r.text\n",
    "\n",
    "    soup = BeautifulSoup(webpage,'html.parser')\n",
    "    article_title=soup.find(name='h1',class_ = 'entry-title')\n",
    "    article_text =soup.find(name='div',class_='td-post-content tagdiv-type')\n",
    "\n",
    "    ## Different Format of Page\n",
    "    if article_text == None or article_title==None :\n",
    "        article_title = soup.find(name='h1',class_ = 'tdb-title-text')\n",
    "        article_text = soup.find_all(name='div',class_='tdb-block-inner td-fix-index')\n",
    "        \n",
    "        ## If Page not Found\n",
    "        if article_text == None or article_title==None :\n",
    "            print(f'{URLS_ID[i]} : Page Not Found')\n",
    "            pass\n",
    "            \n",
    "        else:\n",
    "            temp = ''\n",
    "            for text in article_text:\n",
    "                row_text = text.find_all('p')\n",
    "                if row_text == []: continue\n",
    "                for j in row_text:\n",
    "                    temp = temp + j.getText();\n",
    "            article_text = temp\n",
    "        \n",
    "            #Saving file with URL and all text data inside it\n",
    "            with open(URL_ID,mode='w',encoding='utf-8') as file:\n",
    "                file.write(f'{article_title.getText()}\\n')\n",
    "                file.write(article_text)\n",
    "                print(f'{URLS_ID[i]}: Success')\n",
    "    else:\n",
    "        #Saving file with URL and all text data inside it\n",
    "        with open(URL_ID,mode='w',encoding='utf-8') as file:\n",
    "            file.write(f'{article_title.getText()}\\n')\n",
    "            file.write(article_text.getText().strip())\n",
    "            print(f'{URLS_ID[i]}: Success')"
   ]
  },
  {
   "cell_type": "code",
   "execution_count": 199,
   "id": "aa690615-c067-4e06-9a40-a3ec5f17d816",
   "metadata": {},
   "outputs": [
    {
     "name": "stdout",
     "output_type": "stream",
     "text": [
      "blackassign0001: Success\n",
      "blackassign0002: Success\n",
      "blackassign0003: Success\n",
      "blackassign0004: Success\n",
      "blackassign0005: Success\n",
      "blackassign0006: Success\n",
      "blackassign0007: Success\n",
      "blackassign0008: Success\n",
      "blackassign0009: Success\n",
      "blackassign0010: Success\n",
      "blackassign0011: Success\n",
      "blackassign0012: Success\n",
      "blackassign0013: Success\n",
      "blackassign0014: Success\n",
      "blackassign0015: Success\n",
      "blackassign0016: Success\n",
      "blackassign0017: Success\n",
      "blackassign0018: Success\n",
      "blackassign0019: Success\n",
      "blackassign0020: Success\n",
      "blackassign0021: Success\n",
      "blackassign0022: Success\n",
      "blackassign0023: Success\n",
      "blackassign0024: Success\n",
      "blackassign0025: Success\n",
      "blackassign0026: Success\n",
      "blackassign0027: Success\n",
      "blackassign0028: Success\n",
      "blackassign0029: Success\n",
      "blackassign0030: Success\n",
      "blackassign0031: Success\n",
      "blackassign0032: Success\n",
      "blackassign0033: Success\n",
      "blackassign0034: Success\n",
      "blackassign0035: Success\n",
      "blackassign0036 : Page Not Found\n",
      "blackassign0037: Success\n",
      "blackassign0038: Success\n",
      "blackassign0039: Success\n",
      "blackassign0040: Success\n",
      "blackassign0041: Success\n",
      "blackassign0042: Success\n",
      "blackassign0043: Success\n",
      "blackassign0044: Success\n",
      "blackassign0045: Success\n",
      "blackassign0046: Success\n",
      "blackassign0047: Success\n",
      "blackassign0048: Success\n",
      "blackassign0049 : Page Not Found\n",
      "blackassign0050: Success\n",
      "blackassign0051: Success\n",
      "blackassign0052: Success\n",
      "blackassign0053: Success\n",
      "blackassign0054: Success\n",
      "blackassign0055: Success\n",
      "blackassign0056: Success\n",
      "blackassign0057: Success\n",
      "blackassign0058: Success\n",
      "blackassign0059: Success\n",
      "blackassign0060: Success\n",
      "blackassign0061: Success\n",
      "blackassign0062: Success\n",
      "blackassign0063: Success\n",
      "blackassign0064: Success\n",
      "blackassign0065: Success\n",
      "blackassign0066: Success\n",
      "blackassign0067: Success\n",
      "blackassign0068: Success\n",
      "blackassign0069: Success\n",
      "blackassign0070: Success\n",
      "blackassign0071: Success\n",
      "blackassign0072: Success\n",
      "blackassign0073: Success\n",
      "blackassign0074: Success\n",
      "blackassign0075: Success\n",
      "blackassign0076: Success\n",
      "blackassign0077: Success\n",
      "blackassign0078: Success\n",
      "blackassign0079: Success\n",
      "blackassign0080: Success\n",
      "blackassign0081: Success\n",
      "blackassign0082: Success\n",
      "blackassign0083: Success\n",
      "blackassign0084: Success\n",
      "blackassign0085: Success\n",
      "blackassign0086: Success\n",
      "blackassign0087: Success\n",
      "blackassign0088: Success\n",
      "blackassign0089: Success\n",
      "blackassign0090: Success\n",
      "blackassign0091: Success\n",
      "blackassign0092: Success\n",
      "blackassign0093: Success\n",
      "blackassign0094: Success\n",
      "blackassign0095: Success\n",
      "blackassign0096: Success\n",
      "blackassign0097: Success\n",
      "blackassign0098: Success\n",
      "blackassign0099: Success\n",
      "blackassign0100: Success\n"
     ]
    }
   ],
   "source": [
    "##Saving\n",
    "for i in range(len(URLS_ID)):\n",
    "    textfile(URLS_ID[i],URLS[i])"
   ]
  },
  {
   "cell_type": "code",
   "execution_count": null,
   "id": "1c570459-d0cc-42ab-89af-e54083501127",
   "metadata": {},
   "outputs": [],
   "source": []
  }
 ],
 "metadata": {
  "kernelspec": {
   "display_name": "Python 3 (ipykernel)",
   "language": "python",
   "name": "python3"
  },
  "language_info": {
   "codemirror_mode": {
    "name": "ipython",
    "version": 3
   },
   "file_extension": ".py",
   "mimetype": "text/x-python",
   "name": "python",
   "nbconvert_exporter": "python",
   "pygments_lexer": "ipython3",
   "version": "3.12.1"
  }
 },
 "nbformat": 4,
 "nbformat_minor": 5
}
